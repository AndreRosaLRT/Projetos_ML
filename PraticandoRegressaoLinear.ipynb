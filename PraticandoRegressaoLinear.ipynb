{
  "nbformat": 4,
  "nbformat_minor": 0,
  "metadata": {
    "colab": {
      "name": "PraticandoRegressaoLinear.ipynb",
      "provenance": [],
      "collapsed_sections": []
    },
    "kernelspec": {
      "name": "python3",
      "display_name": "Python 3"
    },
    "language_info": {
      "name": "python"
    }
  },
  "cells": [
    {
      "cell_type": "code",
      "execution_count": 4,
      "metadata": {
        "id": "IZhQu1jB6UhC"
      },
      "outputs": [],
      "source": [
        "#imports\n",
        "import sklearn\n",
        "import os\n",
        "import sys\n",
        "\n",
        "import numpy as np\n",
        "import pandas as pd\n",
        "import matplotlib.pyplot as plt\n",
        "from IPython.display import clear_output\n",
        "from six.moves import urllib\n",
        "import tensorflow.compat.v2.feature_column as fc\n",
        "\n",
        "import tensorflow as tf\n",
        "\n",
        "from __future__ import absolute_import, division, print_function, unicode_literals\n",
        "import tensorflow.compat.v2.feature_column as fc"
      ]
    },
    {
      "cell_type": "markdown",
      "source": [
        "# Regressão linear com Tensor Flow - 2.x - Usando Pandas e Linear Regressor - Dados - Boston housing"
      ],
      "metadata": {
        "id": "n4VoTqKvYlLW"
      }
    },
    {
      "cell_type": "code",
      "source": [
        "#load data\n",
        "from sklearn.datasets import load_boston\n",
        "\n",
        "boston_housing = load_boston()"
      ],
      "metadata": {
        "id": "N2lOmNuTY5Vu"
      },
      "execution_count": null,
      "outputs": []
    },
    {
      "cell_type": "code",
      "source": [
        "# boston_housing.data"
      ],
      "metadata": {
        "id": "lhfHqKHeaFWL"
      },
      "execution_count": null,
      "outputs": []
    },
    {
      "cell_type": "code",
      "source": [
        "# print(boston_housing.DESCR)"
      ],
      "metadata": {
        "id": "SmQF7mBwZceN"
      },
      "execution_count": null,
      "outputs": []
    },
    {
      "cell_type": "code",
      "source": [
        "# CONVERT DATA SET INTO DATAFRAME\n",
        "\n",
        "df = pd.DataFrame(boston_housing.data, columns=boston_housing.feature_names)"
      ],
      "metadata": {
        "id": "yp0msoCvZ1vT"
      },
      "execution_count": 6,
      "outputs": []
    },
    {
      "cell_type": "code",
      "source": [
        "# df.head()"
      ],
      "metadata": {
        "id": "DAI-GPSmaP2h"
      },
      "execution_count": null,
      "outputs": []
    },
    {
      "cell_type": "code",
      "source": [
        "#add the target column to the dataframe\n",
        "df['MEDV'] = boston_housing.target \n",
        "#print the first 5 rows of the data frame\n",
        "print(df.head())"
      ],
      "metadata": {
        "id": "XLavBTRdbZQ5"
      },
      "execution_count": null,
      "outputs": []
    },
    {
      "cell_type": "code",
      "source": [
        "#define the feature columns and target columns\n",
        "features = df[boston_housing.feature_names]\n",
        "target = 'MEDV'"
      ],
      "metadata": {
        "id": "kX1vg8GDbtoH"
      },
      "execution_count": 8,
      "outputs": []
    },
    {
      "cell_type": "code",
      "source": [
        "# df[boston_housing.feature_names]"
      ],
      "metadata": {
        "id": "WItTryd7b03e"
      },
      "execution_count": null,
      "outputs": []
    },
    {
      "cell_type": "code",
      "source": [
        "#convert the feature columns into Tensorflow numeric column\n",
        "feature_columns = [tf.feature_column.numeric_column(i) for i in features]"
      ],
      "metadata": {
        "id": "lY_qATPDcb4o"
      },
      "execution_count": 9,
      "outputs": []
    },
    {
      "cell_type": "code",
      "source": [
        "# define estimator linearRegressor\n",
        "\n",
        "estimator = tf.estimator.LinearRegressor(feature_columns=feature_columns, model_dir='LinRegTrain')\n",
        "clear_output()"
      ],
      "metadata": {
        "id": "QP39BCRidA8V"
      },
      "execution_count": 23,
      "outputs": []
    },
    {
      "cell_type": "code",
      "source": [
        "# separando dados de treinamento e teste\n",
        "from sklearn.model_selection import train_test_split\n",
        "dftrain, dfeval = train_test_split(df, test_size=0.30, random_state=101)\n",
        "print(dftrain.shape)\n",
        "print(dfeval.shape)\n"
      ],
      "metadata": {
        "colab": {
          "base_uri": "https://localhost:8080/"
        },
        "id": "2kh33O7zfo2W",
        "outputId": "dca7bdd6-d914-41ee-949e-00a806883b9b"
      },
      "execution_count": 24,
      "outputs": [
        {
          "output_type": "stream",
          "name": "stdout",
          "text": [
            "(354, 14)\n",
            "(152, 14)\n"
          ]
        }
      ]
    },
    {
      "cell_type": "code",
      "source": [
        "# funções de input de dados\n",
        "\n",
        "def make_input_fn(data_df, num_epochs=10, shuffle=True, batch_size=32):\n",
        "  def input_function():\n",
        "    x = data_df[boston_housing.feature_names]\n",
        "    y = data_df['MEDV']\n",
        "    # batch_size=batch_size\n",
        "    # num_epochs=num_epochs\n",
        "    # shuffle=shuffle\n",
        "   \n",
        "    ds = tf.data.Dataset.from_tensor_slices((dict(x), y))\n",
        "    if shuffle:\n",
        "      ds = ds.shuffle(1000)\n",
        "    ds = ds.batch(batch_size).repeat(num_epochs)\n",
        "    return ds\n",
        "  \n",
        "  return input_function\n",
        "\n",
        "def make_input_fn_pred(data_df,num_epochs=1, shuffle=True, batch_size=32):\n",
        "  def input_fn_pred():\n",
        "    ds = tf.data.Dataset.from_tensor_slices(dict(data_df))\n",
        "    if shuffle:\n",
        "      ds = ds.shuffle(1000)\n",
        "    ds = ds.batch(batch_size).repeat(num_epochs)\n",
        "    return ds\n",
        "  return input_fn_pred\n"
      ],
      "metadata": {
        "id": "2c_gk-yDgrbf"
      },
      "execution_count": 25,
      "outputs": []
    },
    {
      "cell_type": "code",
      "source": [
        "# instanciando as funções de input de dados com os dataframes de treinamento e avaliação\n",
        "train_input_fn = make_input_fn(dftrain,num_epochs=20,batch_size=3)\n",
        "eval_input_fn = make_input_fn(dfeval, num_epochs=1, shuffle=False)\n"
      ],
      "metadata": {
        "id": "479dNjNdnU56"
      },
      "execution_count": 35,
      "outputs": []
    },
    {
      "cell_type": "code",
      "source": [
        "\n",
        "#train the model with 2000 steps\n",
        "estimator.train(train_input_fn, steps=2000)\n",
        "clear_output()\n"
      ],
      "metadata": {
        "id": "w1sLVnW1g0uo"
      },
      "execution_count": 36,
      "outputs": []
    },
    {
      "cell_type": "code",
      "source": [
        "# avaliando o modelo\n",
        "result = estimator.evaluate(eval_input_fn)\n",
        "\n",
        "clear_output()\n",
        "print(result)"
      ],
      "metadata": {
        "colab": {
          "base_uri": "https://localhost:8080/"
        },
        "id": "a1qM8TfnmdKm",
        "outputId": "3e195738-3bbd-4a8b-f80e-49e1c162e23c"
      },
      "execution_count": 37,
      "outputs": [
        {
          "output_type": "stream",
          "name": "stdout",
          "text": [
            "{'average_loss': 42.953335, 'label/mean': 23.827631, 'loss': 42.76357, 'prediction/mean': 22.803696, 'global_step': 4016}\n"
          ]
        }
      ]
    },
    {
      "cell_type": "code",
      "source": [
        "\n",
        "# Dados para realizar predição\n",
        "df2 = pd.DataFrame(np.array([[0.00567, 16, 3.44,0,0.523,5.38,43,3.98,2,302,14.09,349.9,5.67], [0.00678, 12, 2.44,0,0.723,4.348,31,2.98,2,302,16.09,249.9,5.67]]),\n",
        "                   columns=boston_housing.feature_names)\n",
        "print(df2)\n",
        "   "
      ],
      "metadata": {
        "colab": {
          "base_uri": "https://localhost:8080/"
        },
        "id": "1Ino9hKXK-WD",
        "outputId": "099b5dd6-e4d0-4a48-b19d-5d15c4c4c94c"
      },
      "execution_count": 38,
      "outputs": [
        {
          "output_type": "stream",
          "name": "stdout",
          "text": [
            "      CRIM    ZN  INDUS  CHAS    NOX  ...  RAD    TAX  PTRATIO      B  LSTAT\n",
            "0  0.00567  16.0   3.44   0.0  0.523  ...  2.0  302.0    14.09  349.9   5.67\n",
            "1  0.00678  12.0   2.44   0.0  0.723  ...  2.0  302.0    16.09  249.9   5.67\n",
            "\n",
            "[2 rows x 13 columns]\n"
          ]
        }
      ]
    },
    {
      "cell_type": "code",
      "source": [
        "# rodando predict\n",
        "predict_input_fn = make_input_fn_pred(df2)\n",
        "predictions = estimator.predict(input_fn=predict_input_fn)"
      ],
      "metadata": {
        "id": "ZDic1ylBNkcH"
      },
      "execution_count": 43,
      "outputs": []
    },
    {
      "cell_type": "code",
      "source": [
        "list(predictions)\n",
        "\n"
      ],
      "metadata": {
        "colab": {
          "base_uri": "https://localhost:8080/"
        },
        "id": "8aKYB2VjNzOy",
        "outputId": "8347f9b4-6f18-4bcb-b442-9dad8b20927d"
      },
      "execution_count": 44,
      "outputs": [
        {
          "output_type": "stream",
          "name": "stdout",
          "text": [
            "INFO:tensorflow:Calling model_fn.\n"
          ]
        },
        {
          "output_type": "stream",
          "name": "stderr",
          "text": [
            "/usr/local/lib/python3.7/dist-packages/tensorflow_estimator/python/estimator/canned/linear.py:1478: UserWarning: `layer.add_variable` is deprecated and will be removed in a future version. Please use `layer.add_weight` method instead.\n",
            "  getter=tf.compat.v1.get_variable)\n"
          ]
        },
        {
          "output_type": "stream",
          "name": "stdout",
          "text": [
            "INFO:tensorflow:Done calling model_fn.\n",
            "INFO:tensorflow:Graph was finalized.\n",
            "INFO:tensorflow:Restoring parameters from LinRegTrain/model.ckpt-4016\n",
            "INFO:tensorflow:Running local_init_op.\n",
            "INFO:tensorflow:Done running local_init_op.\n"
          ]
        },
        {
          "output_type": "execute_result",
          "data": {
            "text/plain": [
              "[{'predictions': array([17.856361], dtype=float32)},\n",
              " {'predictions': array([21.959055], dtype=float32)}]"
            ]
          },
          "metadata": {},
          "execution_count": 44
        }
      ]
    },
    {
      "cell_type": "markdown",
      "source": [
        ""
      ],
      "metadata": {
        "id": "wYM9JQwH6g7h"
      }
    }
  ]
}